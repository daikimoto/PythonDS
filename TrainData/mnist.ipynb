{
 "cells": [
  {
   "cell_type": "markdown",
   "id": "18a94c8b",
   "metadata": {},
   "source": [
    "# MNISTデータ生成"
   ]
  },
  {
   "cell_type": "markdown",
   "id": "43a2cf45",
   "metadata": {},
   "source": [
    "## 出力ファイル設定値"
   ]
  },
  {
   "cell_type": "code",
   "execution_count": 1,
   "id": "0728f08f",
   "metadata": {},
   "outputs": [],
   "source": [
    "#Trainデータファイル名\n",
    "trainDataFileName = \"mnist_Train\" \n",
    "\n",
    "#Testデータファイル名\n",
    "testDataFileName = \"mnist_Test\"\n",
    "\n",
    "#targetファイル修飾子\n",
    "modifierName = \"_target\"\n",
    "\n",
    "#データファイル拡張子\n",
    "fileNameExtension = \".dat\""
   ]
  },
  {
   "cell_type": "markdown",
   "id": "5f64dcf5",
   "metadata": {},
   "source": [
    "## データ生成設定値"
   ]
  },
  {
   "cell_type": "code",
   "execution_count": 2,
   "id": "39437dad",
   "metadata": {},
   "outputs": [],
   "source": [
    "#テストデータ生成フラグ（True or False）\n",
    "generateTestData_flg = True\n",
    "\n",
    "#テストデータの比率(小数点表記)\n",
    "testSize = 0.4"
   ]
  },
  {
   "cell_type": "markdown",
   "id": "cfd81e1c",
   "metadata": {},
   "source": [
    "## ライブラリのインポート"
   ]
  },
  {
   "cell_type": "code",
   "execution_count": 3,
   "id": "f58e1e91",
   "metadata": {},
   "outputs": [
    {
     "name": "stderr",
     "output_type": "stream",
     "text": [
      "/Users/motoyamadaiki/opt/anaconda3/lib/python3.8/site-packages/scipy/__init__.py:138: UserWarning: A NumPy version >=1.16.5 and <1.23.0 is required for this version of SciPy (detected version 1.24.1)\n",
      "  warnings.warn(f\"A NumPy version >={np_minversion} and <{np_maxversion} is required for this version of \"\n"
     ]
    }
   ],
   "source": [
    "import numpy as np\n",
    "import matplotlib.pyplot as plt\n",
    "# MNISTデータセット\n",
    "from sklearn.datasets import load_digits\n",
    "from sklearn.model_selection import train_test_split"
   ]
  },
  {
   "cell_type": "markdown",
   "id": "4121e607",
   "metadata": {},
   "source": [
    "## MNISTデータをロード"
   ]
  },
  {
   "cell_type": "code",
   "execution_count": 4,
   "id": "1659f032",
   "metadata": {},
   "outputs": [],
   "source": [
    "mnist = load_digits()"
   ]
  },
  {
   "cell_type": "code",
   "execution_count": 5,
   "id": "e0091a57",
   "metadata": {},
   "outputs": [],
   "source": [
    "X = mnist.data\n",
    "Y = mnist.target"
   ]
  },
  {
   "cell_type": "code",
   "execution_count": 6,
   "id": "90ba9f8d",
   "metadata": {},
   "outputs": [],
   "source": [
    "if generateTestData_flg == True:\n",
    "    X, Y, X_test, Y_test = train_test_split(X, Y, test_size=testSize)\n",
    "    np.savetxt(X=X_test, fname=testDataFileName+fileNameExtension, delimiter=\" \")\n",
    "    np.savetxt(X=Y_test, fname=testDataFileName+modifierName + fileNameExtension, delimiter=\" \")\n",
    "np.savetxt(X=X, fname=trainDataFileName+fileNameExtension, delimiter=\" \")\n",
    "np.savetxt(X=X, fname=trainDataFileName+modifierName+fileNameExtension, delimiter=\" \")"
   ]
  }
 ],
 "metadata": {
  "kernelspec": {
   "display_name": "Python 3",
   "language": "python",
   "name": "python3"
  },
  "language_info": {
   "codemirror_mode": {
    "name": "ipython",
    "version": 3
   },
   "file_extension": ".py",
   "mimetype": "text/x-python",
   "name": "python",
   "nbconvert_exporter": "python",
   "pygments_lexer": "ipython3",
   "version": "3.8.8"
  }
 },
 "nbformat": 4,
 "nbformat_minor": 5
}
